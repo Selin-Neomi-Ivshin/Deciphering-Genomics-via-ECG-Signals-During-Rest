{
  "nbformat": 4,
  "nbformat_minor": 0,
  "metadata": {
    "colab": {
      "provenance": []
    },
    "kernelspec": {
      "name": "python3",
      "display_name": "Python 3"
    },
    "language_info": {
      "name": "python"
    }
  },
  "cells": [
    {
      "cell_type": "code",
      "execution_count": null,
      "metadata": {
        "id": "pG7e0PRD6qaz"
      },
      "outputs": [],
      "source": [
        "import os\n",
        "import subprocess\n",
        "import pandas as pd\n",
        "\n",
        "GEN_DIR = \"/sise/nadav-group/nadavrap-group/UKBB/GEN/\"\n",
        "ECG_DIR = \"/sise/nadav-group/nadavrap-group/ECGs/\"\n",
        "OUTPUT_DIR = ECG_DIR  # Saving outputs in the same ECG folder\n",
        "PLINK = \"plink2\""
      ]
    },
    {
      "cell_type": "markdown",
      "source": [
        "#***Covariates.txt is provided by Nadav:***\n",
        "\n",
        "---\n",
        "\n"
      ],
      "metadata": {
        "id": "3FiY6_xE-L8S"
      }
    },
    {
      "cell_type": "code",
      "source": [
        "import pandas as pd\n",
        "\n",
        "# Path to your .txt file\n",
        "file_path = \"/sise/nadav-group/nadavrap-group/ECGs/covariates.txt\"\n",
        "\n",
        "df = pd.read_csv(file_path, delim_whitespace=True)\n",
        "\n",
        "# Columns to keep\n",
        "columns_to_keep = [\n",
        "    \"IID\",\n",
        "    \"age_when_attended_assessment_centre_f21003_0_0\",\n",
        "    \"genetic_sex_f22001_0_0\",\n",
        "    \"genetic_principal_components_f22009_0_1\",\n",
        "    \"genetic_principal_components_f22009_0_2\",\n",
        "    \"genetic_principal_components_f22009_0_3\",\n",
        "    \"genetic_principal_components_f22009_0_4\",\n",
        "    \"genetic_principal_components_f22009_0_5\",\n",
        "    \"genetic_principal_components_f22009_0_6\",\n",
        "    \"genetic_principal_components_f22009_0_7\",\n",
        "    \"genetic_principal_components_f22009_0_8\",\n",
        "    \"genetic_principal_components_f22009_0_9\",\n",
        "    \"genetic_principal_components_f22009_0_10\",\n",
        "    \"uk_biobank_assessment_centre_f54_0_0\"\n",
        "]\n",
        "\n",
        "df = df[columns_to_keep]\n",
        "\n",
        "# One-hot encode\n",
        "df = pd.get_dummies(df, columns=[\"uk_biobank_assessment_centre_f54_0_0\"], prefix=\"centre\")\n",
        "\n",
        "# Convert boolean dummies to 0/1 integers\n",
        "dummy_cols = [col for col in df.columns if col.startswith(\"centre_\")]\n",
        "df[dummy_cols] = df[dummy_cols].astype(int)\n",
        "\n",
        "# Drop specific dummy\n",
        "df = df.drop(columns=[\"centre_10003\"], errors=\"ignore\")\n",
        "df"
      ],
      "metadata": {
        "id": "bMoZcY_y9XWJ"
      },
      "execution_count": null,
      "outputs": []
    },
    {
      "cell_type": "code",
      "source": [
        "output_file = \"/sise/nadav-group/nadavrap-group/ECGs/covariates_for_plink7.txt\"\n",
        "df = pd.read_csv(output_file, delim_whitespace=True)\n",
        "df"
      ],
      "metadata": {
        "id": "mOZ9NoAH9Z0L"
      },
      "execution_count": null,
      "outputs": []
    }
  ]
}